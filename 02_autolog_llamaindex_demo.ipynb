{
 "cells": [
  {
   "cell_type": "markdown",
   "metadata": {
    "application/vnd.databricks.v1+cell": {
     "cellMetadata": {
      "byteLimit": 2048000,
      "rowLimit": 10000
     },
     "inputWidgets": {},
     "nuid": "e7dabd14-79a0-4726-ae37-5729c99e4392",
     "showTitle": false,
     "title": ""
    }
   },
   "source": [
    "#Using Databricks Foundation model APIs and Databricks Vector Search with LlamaIndex"
   ]
  },
  {
   "cell_type": "code",
   "execution_count": 0,
   "metadata": {
    "application/vnd.databricks.v1+cell": {
     "cellMetadata": {
      "byteLimit": 2048000,
      "rowLimit": 10000
     },
     "inputWidgets": {},
     "nuid": "b631fcde-0a69-4134-86f3-6c5c7d1b63f6",
     "showTitle": false,
     "title": ""
    }
   },
   "outputs": [],
   "source": [
    "%pip install mlflow==2.15.*\n",
    "%pip install --upgrade llama_index\n",
    "%pip install --upgrade llama-index-llms-databricks  \n",
    "%pip install --upgrade databricks-vectorsearch\n",
    "%pip install --upgrade llama-index-vector-stores-databricks\n",
    "%pip install --upgrade llama-index-embeddings-databricks\n",
    "dbutils.library.restartPython()  # noqa"
   ]
  },
  {
   "cell_type": "code",
   "execution_count": 0,
   "metadata": {
    "application/vnd.databricks.v1+cell": {
     "cellMetadata": {
      "byteLimit": 2048000,
      "rowLimit": 10000
     },
     "inputWidgets": {},
     "nuid": "0b25eff7-1f51-4fae-b6eb-dc9bb8ce461a",
     "showTitle": false,
     "title": ""
    }
   },
   "outputs": [],
   "source": [
    "import mlflow\n",
    "mlflow.llama_index.autolog()"
   ]
  },
  {
   "cell_type": "code",
   "execution_count": 0,
   "metadata": {
    "application/vnd.databricks.v1+cell": {
     "cellMetadata": {
      "byteLimit": 2048000,
      "rowLimit": 10000
     },
     "inputWidgets": {},
     "nuid": "b213abca-aeb4-49fe-9630-188a067ab5b2",
     "showTitle": false,
     "title": ""
    }
   },
   "outputs": [],
   "source": [
    "from llama_index.core import ServiceContext, VectorStoreIndex, set_global_service_context\n",
    "\n",
    "# from databricks_llamaindex.databricks_vector_search import DatabricksVectorStore\n",
    "from llama_index.llms.databricks import Databricks\n",
    "from llama_index.embeddings.databricks import DatabricksEmbedding\n",
    "from llama_index.vector_stores.databricks  import DatabricksVectorSearch\n",
    "\n",
    "\n",
    "from databricks.vector_search.client import (\n",
    "    VectorSearchIndex,\n",
    "    VectorSearchClient,\n",
    ")"
   ]
  },
  {
   "cell_type": "code",
   "execution_count": 0,
   "metadata": {
    "application/vnd.databricks.v1+cell": {
     "cellMetadata": {},
     "inputWidgets": {},
     "nuid": "e90e27dd-0e94-41d8-8062-639d15b33a79",
     "showTitle": false,
     "title": ""
    }
   },
   "outputs": [],
   "source": [
    "# TO DO: Add or update your config\n",
    "\n",
    "config = {}\n",
    "config['model_name'] = \"databricks-meta-llama-3-1-70b-instruct\"\n",
    "config['embed_model_name'] = \"databricks-bge-large-en\"\n",
    "config['index_name'] = '' # TO DO - note, index must use self managed embeddings\n",
    "config['endpoint_name'] = '' # TO DO"
   ]
  },
  {
   "cell_type": "code",
   "execution_count": 0,
   "metadata": {
    "application/vnd.databricks.v1+cell": {
     "cellMetadata": {
      "byteLimit": 2048000,
      "rowLimit": 10000
     },
     "inputWidgets": {},
     "nuid": "21e9962e-da3b-4ff9-bd80-5cd14a8ad6cf",
     "showTitle": false,
     "title": ""
    }
   },
   "outputs": [],
   "source": [
    "context = dbutils.entry_point.getDbutils().notebook().getContext()  # noqa\n",
    "token = context.apiToken().get()\n",
    "host = context.apiUrl().get()\n",
    "base_url = f'{host}/serving-endpoints/'\n",
    "\n",
    "llm = Databricks(model=config['model_name'],\n",
    "          api_key=token,\n",
    "          api_base=base_url)\n",
    "\n",
    "embed_model = DatabricksEmbedding(model=config['embed_model_name'],\n",
    "          api_key=token,\n",
    "          endpoint=base_url)"
   ]
  },
  {
   "cell_type": "code",
   "execution_count": 0,
   "metadata": {
    "application/vnd.databricks.v1+cell": {
     "cellMetadata": {
      "byteLimit": 2048000,
      "rowLimit": 10000
     },
     "inputWidgets": {},
     "nuid": "fe76d9d8-d065-45a5-bc14-81cccf41352a",
     "showTitle": false,
     "title": ""
    }
   },
   "outputs": [],
   "source": [
    "service_context = ServiceContext.from_defaults(\n",
    "    llm=llm,\n",
    "    embed_model=embed_model,\n",
    "    context_window=4096,\n",
    "    num_output=256,\n",
    ")\n",
    "set_global_service_context(service_context)"
   ]
  },
  {
   "cell_type": "code",
   "execution_count": 0,
   "metadata": {
    "application/vnd.databricks.v1+cell": {
     "cellMetadata": {
      "byteLimit": 2048000,
      "rowLimit": 10000
     },
     "inputWidgets": {},
     "nuid": "0b2a3306-cfa1-4d95-b74f-d80823c3e4cb",
     "showTitle": false,
     "title": ""
    }
   },
   "outputs": [],
   "source": [
    "client = VectorSearchClient()\n",
    "index = client.get_index(endpoint_name=\"one-env-shared-endpoint-1\", index_name=\"mlops_pj.rr_rag_chatbot.test_new_index\")"
   ]
  },
  {
   "cell_type": "code",
   "execution_count": 0,
   "metadata": {
    "application/vnd.databricks.v1+cell": {
     "cellMetadata": {
      "byteLimit": 2048000,
      "rowLimit": 10000
     },
     "inputWidgets": {},
     "nuid": "ef2fe211-cffc-4c88-be15-d5cb80e7a80e",
     "showTitle": false,
     "title": ""
    }
   },
   "outputs": [],
   "source": [
    "dvs = DatabricksVectorSearch(\n",
    "    index = index,\n",
    "    text_column='content',\n",
    "    columns = [])\n",
    "# dvs.add(docs_list)\n",
    "dvs_index = VectorStoreIndex.from_vector_store(dvs,similarity_top_k=10)\n",
    "query_engine = dvs_index.as_query_engine(response_mode ='simple_summarize',similarity_top_k=10)"
   ]
  },
  {
   "cell_type": "code",
   "execution_count": 0,
   "metadata": {
    "application/vnd.databricks.v1+cell": {
     "cellMetadata": {
      "byteLimit": 2048000,
      "rowLimit": 10000
     },
     "inputWidgets": {},
     "nuid": "debea807-1f5c-41e0-964a-d39c5a4ac211",
     "showTitle": false,
     "title": ""
    }
   },
   "outputs": [],
   "source": [
    "# Query and print response - your trace will be generated here\n",
    "response = query_engine.query(\"What is the aircraft type under investigation?\")"
   ]
  }
 ],
 "metadata": {
  "application/vnd.databricks.v1+notebook": {
   "dashboards": [],
   "environmentMetadata": {
    "base_environment": "",
    "client": "1"
   },
   "language": "python",
   "notebookMetadata": {
    "mostRecentlyExecutedCommandWithImplicitDF": {
     "commandId": 3192197670665194,
     "dataframes": [
      "_sqldf"
     ]
    },
    "pythonIndentUnit": 2
   },
   "notebookName": "02_autolog_llamaindex_demo",
   "widgets": {}
  }
 },
 "nbformat": 4,
 "nbformat_minor": 0
}
