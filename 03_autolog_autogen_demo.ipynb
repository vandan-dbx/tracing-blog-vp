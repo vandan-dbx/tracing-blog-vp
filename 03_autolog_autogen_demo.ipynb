{
 "cells": [
  {
   "cell_type": "markdown",
   "metadata": {
    "application/vnd.databricks.v1+cell": {
     "cellMetadata": {},
     "inputWidgets": {},
     "nuid": "78889b95-eefd-4af9-8f67-68665462b133",
     "showTitle": false,
     "title": ""
    }
   },
   "source": [
    "# Using Databricks Foundational Models with Autogen and Trace Autologging"
   ]
  },
  {
   "cell_type": "code",
   "execution_count": 0,
   "metadata": {
    "application/vnd.databricks.v1+cell": {
     "cellMetadata": {
      "byteLimit": 2048000,
      "rowLimit": 10000
     },
     "inputWidgets": {},
     "nuid": "ffa1ad56-b0bd-4da2-85bc-6acd217f14f4",
     "showTitle": false,
     "title": ""
    },
    "nteract": {
     "transient": {
      "deleting": false
     }
    }
   },
   "outputs": [],
   "source": [
    "%pip install pyautogen==0.2.30 openai==1.21.2 typing_extensions==4.11.0 mlflow --upgrade\n",
    "dbutils.library.restartPython()"
   ]
  },
  {
   "cell_type": "code",
   "execution_count": 0,
   "metadata": {
    "application/vnd.databricks.v1+cell": {
     "cellMetadata": {},
     "inputWidgets": {},
     "nuid": "4696903f-b852-4030-bc64-758ff2eb6450",
     "showTitle": false,
     "title": ""
    }
   },
   "outputs": [],
   "source": [
    "context = dbutils.entry_point.getDbutils().notebook().getContext()  # noqa\n",
    "token = context.apiToken().get()\n",
    "host = context.apiUrl().get()\n",
    "\n",
    "model = \"databricks-meta-llama-3-1-70b-instruct\"\n",
    "\n",
    "import mlflow\n",
    "import autogen\n",
    "\n",
    "mlflow.autogen.autolog()"
   ]
  },
  {
   "cell_type": "code",
   "execution_count": 0,
   "metadata": {
    "application/vnd.databricks.v1+cell": {
     "cellMetadata": {
      "byteLimit": 2048000,
      "rowLimit": 10000
     },
     "inputWidgets": {},
     "nuid": "0367b001-f757-49f0-9eb1-5bc45f465ecd",
     "showTitle": false,
     "title": ""
    }
   },
   "outputs": [],
   "source": [
    "llm_config = { \"config_list\": [{ \"model\": model, \"api_key\": token, \"base_url\": host + \"/serving-endpoints/\"}]}"
   ]
  },
  {
   "cell_type": "code",
   "execution_count": 0,
   "metadata": {
    "application/vnd.databricks.v1+cell": {
     "cellMetadata": {
      "byteLimit": 2048000,
      "rowLimit": 10000
     },
     "inputWidgets": {},
     "nuid": "8f154ac4-30d2-4367-9027-fac4928bf0fc",
     "showTitle": false,
     "title": ""
    }
   },
   "outputs": [],
   "source": [
    "critic_executor = autogen.UserProxyAgent(\n",
    "    name=\"Critic_Executor\",\n",
    "    human_input_mode=\"NEVER\",\n",
    "    code_execution_config={\n",
    "        \"last_n_messages\": 1,\n",
    "        \"work_dir\": \"tasks\",\n",
    "        \"use_docker\": False,\n",
    "    },\n",
    ")\n",
    "\n",
    "@critic_executor.register_for_execution()\n",
    "@critic.register_for_llm(name=\"check_harmful_content\", description=\"Check if content contain harmful keywords.\")\n",
    "def check_harmful_content(content: Annotated[str, \"Content to check if harmful keywords.\"]):\n",
    "    # List of harmful keywords for demonstration purposes\n",
    "    harmful_keywords = [\"violence\", \"hate\", \"bullying\", \"death\"]\n",
    "\n",
    "    # Normalize the input text to lower case to ensure case-insensitive matching\n",
    "    text = content.lower()\n",
    "\n",
    "    print(f\"Checking for harmful content...{text}\", \"yellow\")\n",
    "    # Check if any of the harmful keywords appear in the text\n",
    "    for keyword in harmful_keywords:\n",
    "        if keyword in text:\n",
    "            return \"Denied. Harmful content detected:\" + keyword  # Harmful content detected\n",
    "\n",
    "    return \"Approve. TERMINATE\"  # No harmful content detected\n",
    "\n",
    "\n",
    "def reflection_message_no_harm(recipient, messages, sender, config):\n",
    "    print(\"Reflecting...\", \"yellow\")\n",
    "    return f\"Reflect and provide critique on the following writing. Ensure it does not contain harmful content. You can use tools to check it. \\n\\n {recipient.chat_messages_for_summary(sender)[-1]['content']}\"\n",
    "\n",
    "\n",
    "user_proxy.register_nested_chats(\n",
    "    [\n",
    "        {\n",
    "            \"sender\": critic_executor,\n",
    "            \"recipient\": critic,\n",
    "            \"message\": reflection_message_no_harm,\n",
    "            \"max_turns\": 2,\n",
    "            \"summary_method\": \"last_msg\",\n",
    "        }\n",
    "    ],\n",
    "    trigger=writer,  # condition=my_condition,\n",
    ")\n",
    "\n",
    "res = user_proxy.initiate_chat(recipient=writer, message=task, max_turns=3, summary_method=\"last_msg\")"
   ]
  },
  {
   "cell_type": "code",
   "execution_count": 0,
   "metadata": {
    "application/vnd.databricks.v1+cell": {
     "cellMetadata": {
      "byteLimit": 2048000,
      "rowLimit": 10000
     },
     "inputWidgets": {},
     "nuid": "6fcff036-42b4-480b-bd8f-43eb461e112b",
     "showTitle": false,
     "title": ""
    }
   },
   "outputs": [],
   "source": [
    "def reflection_message(recipient, messages, sender, config):\n",
    "    print(\"Reflecting...\", \"yellow\")\n",
    "    return f\"Reflect and provide critique on the following writing. \\n\\n {recipient.chat_messages_for_summary(sender)[-1]['content']}\"\n",
    "\n",
    "\n",
    "user_proxy.register_nested_chats(\n",
    "    [{\"recipient\": critic, \"message\": reflection_message, \"summary_method\": \"last_msg\", \"max_turns\": 1}],\n",
    "    trigger=writer,  # condition=my_condition,\n",
    ")\n",
    "\n",
    "res = user_proxy.initiate_chat(recipient=writer, message=task, max_turns=2, summary_method=\"last_msg\")"
   ]
  }
 ],
 "metadata": {
  "application/vnd.databricks.v1+notebook": {
   "dashboards": [],
   "environmentMetadata": {
    "base_environment": "",
    "client": "1"
   },
   "language": "python",
   "notebookMetadata": {
    "mostRecentlyExecutedCommandWithImplicitDF": {
     "commandId": 973044544514084,
     "dataframes": [
      "_sqldf"
     ]
    },
    "pythonIndentUnit": 2
   },
   "notebookName": "03_autolog_autogen_demo",
   "widgets": {}
  },
  "front_matter": {
   "description": "Use Databricks DBRX and Foundation Model APIs to build AutoGen applications backed by open-source LLMs.",
   "tags": [
    "code generation",
    "dbrx",
    "databricks",
    "open source",
    "lakehouse",
    "custom model",
    "data intelligence"
   ]
  },
  "language_info": {
   "name": "python"
  },
  "notebook_environment": {},
  "nteract": {
   "version": "nteract-front-end@1.0.0"
  },
  "save_output": true,
  "skip_test": "Invalid environment: will only run in Databricks workspace after replacing variables",
  "spark_compute": {
   "compute_id": "/default",
   "session_options": {
    "conf": {},
    "enableDebugMode": false
   }
  }
 },
 "nbformat": 4,
 "nbformat_minor": 0
}
