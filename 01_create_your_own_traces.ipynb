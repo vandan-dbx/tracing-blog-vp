{
 "cells": [
  {
   "cell_type": "markdown",
   "metadata": {
    "application/vnd.databricks.v1+cell": {
     "cellMetadata": {
      "byteLimit": 2048000,
      "rowLimit": 10000
     },
     "inputWidgets": {},
     "nuid": "786e4381-2a6a-4cfb-979b-7c07bc976588",
     "showTitle": false,
     "title": ""
    }
   },
   "source": [
    "#MLFlow Tracing - Create your Own Traces"
   ]
  },
  {
   "cell_type": "code",
   "execution_count": 0,
   "metadata": {
    "application/vnd.databricks.v1+cell": {
     "cellMetadata": {
      "byteLimit": 2048000,
      "rowLimit": 10000
     },
     "inputWidgets": {},
     "nuid": "0f7bb96a-bae1-421c-adb4-2741c1822409",
     "showTitle": false,
     "title": ""
    }
   },
   "outputs": [],
   "source": [
    "%pip install mlflow==2.15.*"
   ]
  },
  {
   "cell_type": "code",
   "execution_count": 0,
   "metadata": {
    "application/vnd.databricks.v1+cell": {
     "cellMetadata": {
      "byteLimit": 2048000,
      "rowLimit": 10000
     },
     "inputWidgets": {},
     "nuid": "f67de85a-6be5-4543-b464-87a2f8181a42",
     "showTitle": false,
     "title": ""
    }
   },
   "outputs": [],
   "source": [
    "dbutils.library.restartPython()"
   ]
  },
  {
   "cell_type": "code",
   "execution_count": 0,
   "metadata": {
    "application/vnd.databricks.v1+cell": {
     "cellMetadata": {
      "byteLimit": 2048000,
      "rowLimit": 10000
     },
     "inputWidgets": {},
     "nuid": "c2846dc1-b93b-4cb6-a807-1f14e537db89",
     "showTitle": false,
     "title": ""
    }
   },
   "outputs": [],
   "source": [
    "import mlflow\n",
    "# Create a new experiment to log the trace to\n",
    "# TO DO: add a path\n",
    "save_path = ''\n",
    "mlflow.set_experiment(save_path)\n"
   ]
  },
  {
   "cell_type": "code",
   "execution_count": 0,
   "metadata": {
    "application/vnd.databricks.v1+cell": {
     "cellMetadata": {
      "byteLimit": 2048000,
      "rowLimit": 10000
     },
     "inputWidgets": {},
     "nuid": "015c578f-c2d9-4ce3-9e54-78148999e27f",
     "showTitle": false,
     "title": ""
    }
   },
   "outputs": [],
   "source": [
    "# Mark any function with the trace decorator to automatically capture input(s) and output(s)\n",
    "@mlflow.trace\n",
    "def some_function(x, y, z=2):\n",
    "    return x + (y - z)\n",
    "\n",
    "\n",
    "# Invoking the function will generate a trace that is logged to the active experiment\n",
    "some_function(2, 4)"
   ]
  },
  {
   "cell_type": "code",
   "execution_count": 0,
   "metadata": {
    "application/vnd.databricks.v1+cell": {
     "cellMetadata": {
      "byteLimit": 2048000,
      "rowLimit": 10000
     },
     "inputWidgets": {},
     "nuid": "f0ffc89a-1a93-4955-9698-3c3cdc133fb9",
     "showTitle": false,
     "title": ""
    }
   },
   "outputs": [],
   "source": [
    "#You can add additional metadata to the tracing decorator as follows\n",
    "\n",
    "@mlflow.trace(name=\"My Span\", span_type=\"func\", attributes={\"a\": 1, \"b\": 2})\n",
    "def my_func(x, y):\n",
    "    return x + y\n",
    "\n",
    "my_func(4,5)"
   ]
  },
  {
   "cell_type": "code",
   "execution_count": 0,
   "metadata": {
    "application/vnd.databricks.v1+cell": {
     "cellMetadata": {
      "byteLimit": 2048000,
      "rowLimit": 10000
     },
     "inputWidgets": {},
     "nuid": "caf6839f-d774-4736-958c-aa90c13c95dd",
     "showTitle": false,
     "title": ""
    }
   },
   "outputs": [],
   "source": [
    "# This will raise an AttributeError exception\n",
    "my_func(3, 2, \"multiply\")"
   ]
  },
  {
   "cell_type": "markdown",
   "metadata": {
    "application/vnd.databricks.v1+cell": {
     "cellMetadata": {
      "byteLimit": 2048000,
      "rowLimit": 10000
     },
     "inputWidgets": {},
     "nuid": "413b61a3-e0c1-4348-b275-ac893a088ad7",
     "showTitle": false,
     "title": ""
    }
   },
   "source": [
    "#How to handle parent-child relationships"
   ]
  },
  {
   "cell_type": "code",
   "execution_count": 0,
   "metadata": {
    "application/vnd.databricks.v1+cell": {
     "cellMetadata": {
      "byteLimit": 2048000,
      "rowLimit": 10000
     },
     "inputWidgets": {},
     "nuid": "77d34061-8c41-4de3-8d0e-bb06239b727a",
     "showTitle": false,
     "title": ""
    }
   },
   "outputs": [],
   "source": [
    "@mlflow.trace(span_type=\"func\", attributes={\"key\": \"value\"})\n",
    "def add_1(x):\n",
    "    return x + 1\n",
    "\n",
    "\n",
    "@mlflow.trace(span_type=\"func\", attributes={\"key1\": \"value1\"})\n",
    "def minus_1(x):\n",
    "    return x - 1\n",
    "\n",
    "\n",
    "@mlflow.trace(name=\"Trace Test\")\n",
    "def trace_test(x):\n",
    "    step1 = add_1(x)\n",
    "    return minus_1(step1)\n",
    "\n",
    "\n",
    "trace_test(4)"
   ]
  },
  {
   "cell_type": "markdown",
   "metadata": {
    "application/vnd.databricks.v1+cell": {
     "cellMetadata": {
      "byteLimit": 2048000,
      "rowLimit": 10000
     },
     "inputWidgets": {},
     "nuid": "45a89939-b2a2-4a45-bcf9-c5012263df11",
     "showTitle": false,
     "title": ""
    }
   },
   "source": [
    "#Context Handler"
   ]
  },
  {
   "cell_type": "code",
   "execution_count": 0,
   "metadata": {
    "application/vnd.databricks.v1+cell": {
     "cellMetadata": {},
     "inputWidgets": {},
     "nuid": "0f8acb6c-3120-44d2-ab08-6f033054213c",
     "showTitle": false,
     "title": ""
    }
   },
   "outputs": [],
   "source": [
    "@mlflow.trace\n",
    "def first_func(x, y=2):\n",
    "    return x + y\n",
    "\n",
    "\n",
    "@mlflow.trace\n",
    "def second_func(a, b=3):\n",
    "    return a * b\n",
    "\n",
    "\n",
    "def do_math(a, x, operation=\"add\"):\n",
    "    # Use the fluent API context handler to create a new span\n",
    "    with mlflow.start_span(name=\"Math\") as span:\n",
    "        # Specify the inputs and attributes that will be associated with the span\n",
    "        span.set_inputs({\"a\": a, \"x\": x})\n",
    "        span.set_attributes({\"mode\": operation})\n",
    "\n",
    "        # Both of these functions are decorated for tracing and will be associated\n",
    "        # as 'children' of the parent 'span' defined with the context handler\n",
    "        first = first_func(x)\n",
    "        second = second_func(a)\n",
    "\n",
    "        result = None\n",
    "\n",
    "        if operation == \"add\":\n",
    "            result = first + second\n",
    "        elif operation == \"subtract\":\n",
    "            result = first - second\n",
    "        else:\n",
    "            raise ValueError(f\"Unsupported Operation Mode: {operation}\")\n",
    "\n",
    "        # Specify the output result to the span\n",
    "        span.set_outputs({\"result\": result})\n",
    "\n",
    "        return result"
   ]
  },
  {
   "cell_type": "code",
   "execution_count": 0,
   "metadata": {
    "application/vnd.databricks.v1+cell": {
     "cellMetadata": {
      "byteLimit": 2048000,
      "rowLimit": 10000
     },
     "inputWidgets": {},
     "nuid": "16a6af68-2e47-48e0-ac91-543bf4ddf466",
     "showTitle": false,
     "title": ""
    }
   },
   "outputs": [],
   "source": [
    "do_math(8, 3, \"add\")"
   ]
  },
  {
   "cell_type": "markdown",
   "metadata": {
    "application/vnd.databricks.v1+cell": {
     "cellMetadata": {
      "byteLimit": 2048000,
      "rowLimit": 10000
     },
     "inputWidgets": {},
     "nuid": "567f91ca-db3b-4f9f-b9d3-33dc86d02d0d",
     "showTitle": false,
     "title": ""
    }
   },
   "source": [
    "#Function wrapping"
   ]
  },
  {
   "cell_type": "code",
   "execution_count": 0,
   "metadata": {
    "application/vnd.databricks.v1+cell": {
     "cellMetadata": {
      "byteLimit": 2048000,
      "rowLimit": 10000
     },
     "inputWidgets": {},
     "nuid": "a8ebe024-1760-4ecf-8148-78fca5395429",
     "showTitle": false,
     "title": ""
    }
   },
   "outputs": [],
   "source": [
    "import math\n",
    "\n",
    "\n",
    "def invocation(x, y=4, exp=2):\n",
    "    # Initiate a context handler for parent logging\n",
    "    with mlflow.start_span(name=\"Parent\") as span:\n",
    "        span.set_attributes({\"level\": \"parent\", \"override\": y == 4})\n",
    "        span.set_inputs({\"x\": x, \"y\": y, \"exp\": exp})\n",
    "\n",
    "        # Wrap an external function instead of modifying\n",
    "        traced_pow = mlflow.trace(math.pow)\n",
    "\n",
    "        # Call the wrapped function as you would call it directly\n",
    "        raised = traced_pow(x, exp)\n",
    "\n",
    "        # Wrap another external function\n",
    "        traced_factorial = mlflow.trace(math.factorial)\n",
    "\n",
    "        factorial = traced_factorial(int(raised))\n",
    "\n",
    "        # Wrap another and call it directly\n",
    "        response = mlflow.trace(math.sqrt)(factorial)\n",
    "\n",
    "        # Set the outputs to the parent span prior to returning\n",
    "        span.set_outputs({\"result\": response})\n",
    "\n",
    "        return response\n",
    "\n",
    "\n",
    "for i in range(8):\n",
    "    invocation(i)"
   ]
  }
 ],
 "metadata": {
  "application/vnd.databricks.v1+notebook": {
   "dashboards": [],
   "environmentMetadata": {
    "base_environment": "",
    "client": "1"
   },
   "language": "python",
   "notebookMetadata": {
    "pythonIndentUnit": 2
   },
   "notebookName": "01_create_your_own_traces",
   "widgets": {}
  }
 },
 "nbformat": 4,
 "nbformat_minor": 0
}
